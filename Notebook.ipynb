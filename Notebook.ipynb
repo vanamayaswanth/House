{
 "cells": [
  {
   "cell_type": "code",
   "execution_count": 1,
   "id": "collaborative-shame",
   "metadata": {
    "_cell_guid": "b1076dfc-b9ad-4769-8c92-a6c4dae69d19",
    "_uuid": "8f2839f25d086af736a60e9eeb907d3b93b6e0e5",
    "execution": {
     "iopub.execute_input": "2021-06-29T09:41:51.822679Z",
     "iopub.status.busy": "2021-06-29T09:41:51.822029Z",
     "iopub.status.idle": "2021-06-29T09:41:51.839839Z",
     "shell.execute_reply": "2021-06-29T09:41:51.840305Z",
     "shell.execute_reply.started": "2021-06-29T09:41:11.873351Z"
    },
    "papermill": {
     "duration": 0.049055,
     "end_time": "2021-06-29T09:41:51.840587",
     "exception": false,
     "start_time": "2021-06-29T09:41:51.791532",
     "status": "completed"
    },
    "tags": []
   },
   "outputs": [
    {
     "name": "stdout",
     "output_type": "stream",
     "text": [
      "/kaggle/input/housedata/output.csv\n",
      "/kaggle/input/housedata/data.csv\n",
      "/kaggle/input/housedata/data.dat\n"
     ]
    }
   ],
   "source": [
    "# This Python 3 environment comes with many helpful analytics libraries installed\n",
    "# It is defined by the kaggle/python Docker image: https://github.com/kaggle/docker-python\n",
    "# For example, here's several helpful packages to load\n",
    "\n",
    "import numpy as np # linear algebra\n",
    "import pandas as pd # data processing, CSV file I/O (e.g. pd.read_csv)\n",
    "\n",
    "# Input data files are available in the read-only \"../input/\" directory\n",
    "# For example, running this (by clicking run or pressing Shift+Enter) will list all files under the input directory\n",
    "\n",
    "import os\n",
    "for dirname, _, filenames in os.walk('/kaggle/input'):\n",
    "    for filename in filenames:\n",
    "        print(os.path.join(dirname, filename))\n",
    "\n",
    "# You can write up to 20GB to the current directory (/kaggle/working/) that gets preserved as output when you create a version using \"Save & Run All\" \n",
    "# You can also write temporary files to /kaggle/temp/, but they won't be saved outside of the current session"
   ]
  },
  {
   "cell_type": "markdown",
   "id": "unsigned-translator",
   "metadata": {
    "papermill": {
     "duration": 0.023512,
     "end_time": "2021-06-29T09:41:51.888441",
     "exception": false,
     "start_time": "2021-06-29T09:41:51.864929",
     "status": "completed"
    },
    "tags": []
   },
   "source": [
    "# > **1.Here we read the data using read csv file **"
   ]
  },
  {
   "cell_type": "code",
   "execution_count": 2,
   "id": "capital-contrast",
   "metadata": {
    "execution": {
     "iopub.execute_input": "2021-06-29T09:41:51.943399Z",
     "iopub.status.busy": "2021-06-29T09:41:51.942724Z",
     "iopub.status.idle": "2021-06-29T09:41:51.980282Z",
     "shell.execute_reply": "2021-06-29T09:41:51.979654Z",
     "shell.execute_reply.started": "2021-06-29T09:41:11.888116Z"
    },
    "papermill": {
     "duration": 0.067839,
     "end_time": "2021-06-29T09:41:51.980431",
     "exception": false,
     "start_time": "2021-06-29T09:41:51.912592",
     "status": "completed"
    },
    "tags": []
   },
   "outputs": [],
   "source": [
    "house_data=pd.read_csv(\"../input/housedata/data.csv\")"
   ]
  },
  {
   "cell_type": "code",
   "execution_count": 3,
   "id": "ultimate-roller",
   "metadata": {
    "execution": {
     "iopub.execute_input": "2021-06-29T09:41:52.033278Z",
     "iopub.status.busy": "2021-06-29T09:41:52.032631Z",
     "iopub.status.idle": "2021-06-29T09:41:52.070656Z",
     "shell.execute_reply": "2021-06-29T09:41:52.070021Z",
     "shell.execute_reply.started": "2021-06-29T09:41:11.933030Z"
    },
    "papermill": {
     "duration": 0.064807,
     "end_time": "2021-06-29T09:41:52.070789",
     "exception": false,
     "start_time": "2021-06-29T09:41:52.005982",
     "status": "completed"
    },
    "tags": []
   },
   "outputs": [
    {
     "data": {
      "text/html": [
       "<div>\n",
       "<style scoped>\n",
       "    .dataframe tbody tr th:only-of-type {\n",
       "        vertical-align: middle;\n",
       "    }\n",
       "\n",
       "    .dataframe tbody tr th {\n",
       "        vertical-align: top;\n",
       "    }\n",
       "\n",
       "    .dataframe thead th {\n",
       "        text-align: right;\n",
       "    }\n",
       "</style>\n",
       "<table border=\"1\" class=\"dataframe\">\n",
       "  <thead>\n",
       "    <tr style=\"text-align: right;\">\n",
       "      <th></th>\n",
       "      <th>date</th>\n",
       "      <th>price</th>\n",
       "      <th>bedrooms</th>\n",
       "      <th>bathrooms</th>\n",
       "      <th>sqft_living</th>\n",
       "      <th>sqft_lot</th>\n",
       "      <th>floors</th>\n",
       "      <th>waterfront</th>\n",
       "      <th>view</th>\n",
       "      <th>condition</th>\n",
       "      <th>sqft_above</th>\n",
       "      <th>sqft_basement</th>\n",
       "      <th>yr_built</th>\n",
       "      <th>yr_renovated</th>\n",
       "      <th>street</th>\n",
       "      <th>city</th>\n",
       "      <th>statezip</th>\n",
       "      <th>country</th>\n",
       "    </tr>\n",
       "  </thead>\n",
       "  <tbody>\n",
       "    <tr>\n",
       "      <th>0</th>\n",
       "      <td>2014-05-02 00:00:00</td>\n",
       "      <td>313000.0</td>\n",
       "      <td>3.0</td>\n",
       "      <td>1.50</td>\n",
       "      <td>1340</td>\n",
       "      <td>7912</td>\n",
       "      <td>1.5</td>\n",
       "      <td>0</td>\n",
       "      <td>0</td>\n",
       "      <td>3</td>\n",
       "      <td>1340</td>\n",
       "      <td>0</td>\n",
       "      <td>1955</td>\n",
       "      <td>2005</td>\n",
       "      <td>18810 Densmore Ave N</td>\n",
       "      <td>Shoreline</td>\n",
       "      <td>WA 98133</td>\n",
       "      <td>USA</td>\n",
       "    </tr>\n",
       "    <tr>\n",
       "      <th>1</th>\n",
       "      <td>2014-05-02 00:00:00</td>\n",
       "      <td>2384000.0</td>\n",
       "      <td>5.0</td>\n",
       "      <td>2.50</td>\n",
       "      <td>3650</td>\n",
       "      <td>9050</td>\n",
       "      <td>2.0</td>\n",
       "      <td>0</td>\n",
       "      <td>4</td>\n",
       "      <td>5</td>\n",
       "      <td>3370</td>\n",
       "      <td>280</td>\n",
       "      <td>1921</td>\n",
       "      <td>0</td>\n",
       "      <td>709 W Blaine St</td>\n",
       "      <td>Seattle</td>\n",
       "      <td>WA 98119</td>\n",
       "      <td>USA</td>\n",
       "    </tr>\n",
       "    <tr>\n",
       "      <th>2</th>\n",
       "      <td>2014-05-02 00:00:00</td>\n",
       "      <td>342000.0</td>\n",
       "      <td>3.0</td>\n",
       "      <td>2.00</td>\n",
       "      <td>1930</td>\n",
       "      <td>11947</td>\n",
       "      <td>1.0</td>\n",
       "      <td>0</td>\n",
       "      <td>0</td>\n",
       "      <td>4</td>\n",
       "      <td>1930</td>\n",
       "      <td>0</td>\n",
       "      <td>1966</td>\n",
       "      <td>0</td>\n",
       "      <td>26206-26214 143rd Ave SE</td>\n",
       "      <td>Kent</td>\n",
       "      <td>WA 98042</td>\n",
       "      <td>USA</td>\n",
       "    </tr>\n",
       "    <tr>\n",
       "      <th>3</th>\n",
       "      <td>2014-05-02 00:00:00</td>\n",
       "      <td>420000.0</td>\n",
       "      <td>3.0</td>\n",
       "      <td>2.25</td>\n",
       "      <td>2000</td>\n",
       "      <td>8030</td>\n",
       "      <td>1.0</td>\n",
       "      <td>0</td>\n",
       "      <td>0</td>\n",
       "      <td>4</td>\n",
       "      <td>1000</td>\n",
       "      <td>1000</td>\n",
       "      <td>1963</td>\n",
       "      <td>0</td>\n",
       "      <td>857 170th Pl NE</td>\n",
       "      <td>Bellevue</td>\n",
       "      <td>WA 98008</td>\n",
       "      <td>USA</td>\n",
       "    </tr>\n",
       "    <tr>\n",
       "      <th>4</th>\n",
       "      <td>2014-05-02 00:00:00</td>\n",
       "      <td>550000.0</td>\n",
       "      <td>4.0</td>\n",
       "      <td>2.50</td>\n",
       "      <td>1940</td>\n",
       "      <td>10500</td>\n",
       "      <td>1.0</td>\n",
       "      <td>0</td>\n",
       "      <td>0</td>\n",
       "      <td>4</td>\n",
       "      <td>1140</td>\n",
       "      <td>800</td>\n",
       "      <td>1976</td>\n",
       "      <td>1992</td>\n",
       "      <td>9105 170th Ave NE</td>\n",
       "      <td>Redmond</td>\n",
       "      <td>WA 98052</td>\n",
       "      <td>USA</td>\n",
       "    </tr>\n",
       "  </tbody>\n",
       "</table>\n",
       "</div>"
      ],
      "text/plain": [
       "                  date      price  bedrooms  bathrooms  sqft_living  sqft_lot  \\\n",
       "0  2014-05-02 00:00:00   313000.0       3.0       1.50         1340      7912   \n",
       "1  2014-05-02 00:00:00  2384000.0       5.0       2.50         3650      9050   \n",
       "2  2014-05-02 00:00:00   342000.0       3.0       2.00         1930     11947   \n",
       "3  2014-05-02 00:00:00   420000.0       3.0       2.25         2000      8030   \n",
       "4  2014-05-02 00:00:00   550000.0       4.0       2.50         1940     10500   \n",
       "\n",
       "   floors  waterfront  view  condition  sqft_above  sqft_basement  yr_built  \\\n",
       "0     1.5           0     0          3        1340              0      1955   \n",
       "1     2.0           0     4          5        3370            280      1921   \n",
       "2     1.0           0     0          4        1930              0      1966   \n",
       "3     1.0           0     0          4        1000           1000      1963   \n",
       "4     1.0           0     0          4        1140            800      1976   \n",
       "\n",
       "   yr_renovated                    street       city  statezip country  \n",
       "0          2005      18810 Densmore Ave N  Shoreline  WA 98133     USA  \n",
       "1             0           709 W Blaine St    Seattle  WA 98119     USA  \n",
       "2             0  26206-26214 143rd Ave SE       Kent  WA 98042     USA  \n",
       "3             0           857 170th Pl NE   Bellevue  WA 98008     USA  \n",
       "4          1992         9105 170th Ave NE    Redmond  WA 98052     USA  "
      ]
     },
     "execution_count": 3,
     "metadata": {},
     "output_type": "execute_result"
    }
   ],
   "source": [
    "house_data.head() # lets see top 5 in our data\n",
    "\n"
   ]
  },
  {
   "cell_type": "markdown",
   "id": "central-applicant",
   "metadata": {
    "papermill": {
     "duration": 0.02513,
     "end_time": "2021-06-29T09:41:52.120597",
     "exception": false,
     "start_time": "2021-06-29T09:41:52.095467",
     "status": "completed"
    },
    "tags": []
   },
   "source": [
    "# styles of tables or data using pandas "
   ]
  },
  {
   "cell_type": "code",
   "execution_count": 4,
   "id": "interesting-surge",
   "metadata": {
    "execution": {
     "iopub.execute_input": "2021-06-29T09:41:52.174325Z",
     "iopub.status.busy": "2021-06-29T09:41:52.173563Z",
     "iopub.status.idle": "2021-06-29T09:41:52.176594Z",
     "shell.execute_reply": "2021-06-29T09:41:52.176113Z",
     "shell.execute_reply.started": "2021-06-29T09:41:11.968910Z"
    },
    "papermill": {
     "duration": 0.031487,
     "end_time": "2021-06-29T09:41:52.176729",
     "exception": false,
     "start_time": "2021-06-29T09:41:52.145242",
     "status": "completed"
    },
    "tags": []
   },
   "outputs": [],
   "source": [
    "# house_data.style.highlight_max() showing max values in every colums by highling color\n",
    "#house_data.style.highlight_min() #showinh min values in every colums by hihhling color\n",
    "# house_data.style.highlight_null(null_color=\"green\") #showinh null values in every colums by green color\n"
   ]
  },
  {
   "cell_type": "code",
   "execution_count": 5,
   "id": "bearing-counter",
   "metadata": {
    "execution": {
     "iopub.execute_input": "2021-06-29T09:41:52.232964Z",
     "iopub.status.busy": "2021-06-29T09:41:52.230257Z",
     "iopub.status.idle": "2021-06-29T09:41:52.281141Z",
     "shell.execute_reply": "2021-06-29T09:41:52.281721Z",
     "shell.execute_reply.started": "2021-06-29T09:41:11.977107Z"
    },
    "papermill": {
     "duration": 0.080453,
     "end_time": "2021-06-29T09:41:52.281903",
     "exception": false,
     "start_time": "2021-06-29T09:41:52.201450",
     "status": "completed"
    },
    "tags": []
   },
   "outputs": [
    {
     "data": {
      "text/html": [
       "<div>\n",
       "<style scoped>\n",
       "    .dataframe tbody tr th:only-of-type {\n",
       "        vertical-align: middle;\n",
       "    }\n",
       "\n",
       "    .dataframe tbody tr th {\n",
       "        vertical-align: top;\n",
       "    }\n",
       "\n",
       "    .dataframe thead th {\n",
       "        text-align: right;\n",
       "    }\n",
       "</style>\n",
       "<table border=\"1\" class=\"dataframe\">\n",
       "  <thead>\n",
       "    <tr style=\"text-align: right;\">\n",
       "      <th></th>\n",
       "      <th>count</th>\n",
       "      <th>mean</th>\n",
       "      <th>std</th>\n",
       "      <th>min</th>\n",
       "      <th>25%</th>\n",
       "      <th>50%</th>\n",
       "      <th>75%</th>\n",
       "      <th>max</th>\n",
       "    </tr>\n",
       "  </thead>\n",
       "  <tbody>\n",
       "    <tr>\n",
       "      <th>price</th>\n",
       "      <td>4600.0</td>\n",
       "      <td>551962.988473</td>\n",
       "      <td>563834.702547</td>\n",
       "      <td>0.0</td>\n",
       "      <td>322875.00</td>\n",
       "      <td>460943.461539</td>\n",
       "      <td>654962.50</td>\n",
       "      <td>26590000.0</td>\n",
       "    </tr>\n",
       "    <tr>\n",
       "      <th>bedrooms</th>\n",
       "      <td>4600.0</td>\n",
       "      <td>3.400870</td>\n",
       "      <td>0.908848</td>\n",
       "      <td>0.0</td>\n",
       "      <td>3.00</td>\n",
       "      <td>3.000000</td>\n",
       "      <td>4.00</td>\n",
       "      <td>9.0</td>\n",
       "    </tr>\n",
       "    <tr>\n",
       "      <th>bathrooms</th>\n",
       "      <td>4600.0</td>\n",
       "      <td>2.160815</td>\n",
       "      <td>0.783781</td>\n",
       "      <td>0.0</td>\n",
       "      <td>1.75</td>\n",
       "      <td>2.250000</td>\n",
       "      <td>2.50</td>\n",
       "      <td>8.0</td>\n",
       "    </tr>\n",
       "    <tr>\n",
       "      <th>sqft_living</th>\n",
       "      <td>4600.0</td>\n",
       "      <td>2139.346957</td>\n",
       "      <td>963.206916</td>\n",
       "      <td>370.0</td>\n",
       "      <td>1460.00</td>\n",
       "      <td>1980.000000</td>\n",
       "      <td>2620.00</td>\n",
       "      <td>13540.0</td>\n",
       "    </tr>\n",
       "    <tr>\n",
       "      <th>sqft_lot</th>\n",
       "      <td>4600.0</td>\n",
       "      <td>14852.516087</td>\n",
       "      <td>35884.436145</td>\n",
       "      <td>638.0</td>\n",
       "      <td>5000.75</td>\n",
       "      <td>7683.000000</td>\n",
       "      <td>11001.25</td>\n",
       "      <td>1074218.0</td>\n",
       "    </tr>\n",
       "    <tr>\n",
       "      <th>floors</th>\n",
       "      <td>4600.0</td>\n",
       "      <td>1.512065</td>\n",
       "      <td>0.538288</td>\n",
       "      <td>1.0</td>\n",
       "      <td>1.00</td>\n",
       "      <td>1.500000</td>\n",
       "      <td>2.00</td>\n",
       "      <td>3.5</td>\n",
       "    </tr>\n",
       "    <tr>\n",
       "      <th>waterfront</th>\n",
       "      <td>4600.0</td>\n",
       "      <td>0.007174</td>\n",
       "      <td>0.084404</td>\n",
       "      <td>0.0</td>\n",
       "      <td>0.00</td>\n",
       "      <td>0.000000</td>\n",
       "      <td>0.00</td>\n",
       "      <td>1.0</td>\n",
       "    </tr>\n",
       "    <tr>\n",
       "      <th>view</th>\n",
       "      <td>4600.0</td>\n",
       "      <td>0.240652</td>\n",
       "      <td>0.778405</td>\n",
       "      <td>0.0</td>\n",
       "      <td>0.00</td>\n",
       "      <td>0.000000</td>\n",
       "      <td>0.00</td>\n",
       "      <td>4.0</td>\n",
       "    </tr>\n",
       "    <tr>\n",
       "      <th>condition</th>\n",
       "      <td>4600.0</td>\n",
       "      <td>3.451739</td>\n",
       "      <td>0.677230</td>\n",
       "      <td>1.0</td>\n",
       "      <td>3.00</td>\n",
       "      <td>3.000000</td>\n",
       "      <td>4.00</td>\n",
       "      <td>5.0</td>\n",
       "    </tr>\n",
       "    <tr>\n",
       "      <th>sqft_above</th>\n",
       "      <td>4600.0</td>\n",
       "      <td>1827.265435</td>\n",
       "      <td>862.168977</td>\n",
       "      <td>370.0</td>\n",
       "      <td>1190.00</td>\n",
       "      <td>1590.000000</td>\n",
       "      <td>2300.00</td>\n",
       "      <td>9410.0</td>\n",
       "    </tr>\n",
       "    <tr>\n",
       "      <th>sqft_basement</th>\n",
       "      <td>4600.0</td>\n",
       "      <td>312.081522</td>\n",
       "      <td>464.137228</td>\n",
       "      <td>0.0</td>\n",
       "      <td>0.00</td>\n",
       "      <td>0.000000</td>\n",
       "      <td>610.00</td>\n",
       "      <td>4820.0</td>\n",
       "    </tr>\n",
       "    <tr>\n",
       "      <th>yr_built</th>\n",
       "      <td>4600.0</td>\n",
       "      <td>1970.786304</td>\n",
       "      <td>29.731848</td>\n",
       "      <td>1900.0</td>\n",
       "      <td>1951.00</td>\n",
       "      <td>1976.000000</td>\n",
       "      <td>1997.00</td>\n",
       "      <td>2014.0</td>\n",
       "    </tr>\n",
       "    <tr>\n",
       "      <th>yr_renovated</th>\n",
       "      <td>4600.0</td>\n",
       "      <td>808.608261</td>\n",
       "      <td>979.414536</td>\n",
       "      <td>0.0</td>\n",
       "      <td>0.00</td>\n",
       "      <td>0.000000</td>\n",
       "      <td>1999.00</td>\n",
       "      <td>2014.0</td>\n",
       "    </tr>\n",
       "  </tbody>\n",
       "</table>\n",
       "</div>"
      ],
      "text/plain": [
       "                count           mean            std     min        25%  \\\n",
       "price          4600.0  551962.988473  563834.702547     0.0  322875.00   \n",
       "bedrooms       4600.0       3.400870       0.908848     0.0       3.00   \n",
       "bathrooms      4600.0       2.160815       0.783781     0.0       1.75   \n",
       "sqft_living    4600.0    2139.346957     963.206916   370.0    1460.00   \n",
       "sqft_lot       4600.0   14852.516087   35884.436145   638.0    5000.75   \n",
       "floors         4600.0       1.512065       0.538288     1.0       1.00   \n",
       "waterfront     4600.0       0.007174       0.084404     0.0       0.00   \n",
       "view           4600.0       0.240652       0.778405     0.0       0.00   \n",
       "condition      4600.0       3.451739       0.677230     1.0       3.00   \n",
       "sqft_above     4600.0    1827.265435     862.168977   370.0    1190.00   \n",
       "sqft_basement  4600.0     312.081522     464.137228     0.0       0.00   \n",
       "yr_built       4600.0    1970.786304      29.731848  1900.0    1951.00   \n",
       "yr_renovated   4600.0     808.608261     979.414536     0.0       0.00   \n",
       "\n",
       "                         50%        75%         max  \n",
       "price          460943.461539  654962.50  26590000.0  \n",
       "bedrooms            3.000000       4.00         9.0  \n",
       "bathrooms           2.250000       2.50         8.0  \n",
       "sqft_living      1980.000000    2620.00     13540.0  \n",
       "sqft_lot         7683.000000   11001.25   1074218.0  \n",
       "floors              1.500000       2.00         3.5  \n",
       "waterfront          0.000000       0.00         1.0  \n",
       "view                0.000000       0.00         4.0  \n",
       "condition           3.000000       4.00         5.0  \n",
       "sqft_above       1590.000000    2300.00      9410.0  \n",
       "sqft_basement       0.000000     610.00      4820.0  \n",
       "yr_built         1976.000000    1997.00      2014.0  \n",
       "yr_renovated        0.000000    1999.00      2014.0  "
      ]
     },
     "execution_count": 5,
     "metadata": {},
     "output_type": "execute_result"
    }
   ],
   "source": [
    "house_data.describe().transpose() #lets decribe the data "
   ]
  },
  {
   "cell_type": "code",
   "execution_count": 6,
   "id": "tired-classic",
   "metadata": {
    "execution": {
     "iopub.execute_input": "2021-06-29T09:41:52.336833Z",
     "iopub.status.busy": "2021-06-29T09:41:52.335808Z",
     "iopub.status.idle": "2021-06-29T09:41:52.342431Z",
     "shell.execute_reply": "2021-06-29T09:41:52.341785Z",
     "shell.execute_reply.started": "2021-06-29T09:41:12.049978Z"
    },
    "papermill": {
     "duration": 0.035491,
     "end_time": "2021-06-29T09:41:52.342577",
     "exception": false,
     "start_time": "2021-06-29T09:41:52.307086",
     "status": "completed"
    },
    "tags": []
   },
   "outputs": [
    {
     "data": {
      "text/plain": [
       "(4600, 18)"
      ]
     },
     "execution_count": 6,
     "metadata": {},
     "output_type": "execute_result"
    }
   ],
   "source": [
    "house_data.shape # Hence we have 4600 rows and 18 columns"
   ]
  },
  {
   "cell_type": "code",
   "execution_count": 7,
   "id": "sustained-speed",
   "metadata": {
    "execution": {
     "iopub.execute_input": "2021-06-29T09:41:52.399300Z",
     "iopub.status.busy": "2021-06-29T09:41:52.398620Z",
     "iopub.status.idle": "2021-06-29T09:41:52.401321Z",
     "shell.execute_reply": "2021-06-29T09:41:52.401758Z",
     "shell.execute_reply.started": "2021-06-29T09:41:12.060199Z"
    },
    "papermill": {
     "duration": 0.033828,
     "end_time": "2021-06-29T09:41:52.401946",
     "exception": false,
     "start_time": "2021-06-29T09:41:52.368118",
     "status": "completed"
    },
    "tags": []
   },
   "outputs": [
    {
     "data": {
      "text/plain": [
       "Index(['date', 'price', 'bedrooms', 'bathrooms', 'sqft_living', 'sqft_lot',\n",
       "       'floors', 'waterfront', 'view', 'condition', 'sqft_above',\n",
       "       'sqft_basement', 'yr_built', 'yr_renovated', 'street', 'city',\n",
       "       'statezip', 'country'],\n",
       "      dtype='object')"
      ]
     },
     "execution_count": 7,
     "metadata": {},
     "output_type": "execute_result"
    }
   ],
   "source": [
    "house_data.columns #the name of the colums"
   ]
  },
  {
   "cell_type": "markdown",
   "id": "sensitive-edinburgh",
   "metadata": {
    "papermill": {
     "duration": 0.025274,
     "end_time": "2021-06-29T09:41:52.452935",
     "exception": false,
     "start_time": "2021-06-29T09:41:52.427661",
     "status": "completed"
    },
    "tags": []
   },
   "source": [
    "# Hence we dont wont date and statezip we drop them using drop"
   ]
  },
  {
   "cell_type": "code",
   "execution_count": 8,
   "id": "occasional-aaron",
   "metadata": {
    "execution": {
     "iopub.execute_input": "2021-06-29T09:41:52.507568Z",
     "iopub.status.busy": "2021-06-29T09:41:52.506914Z",
     "iopub.status.idle": "2021-06-29T09:41:52.513855Z",
     "shell.execute_reply": "2021-06-29T09:41:52.514378Z",
     "shell.execute_reply.started": "2021-06-29T09:41:12.077048Z"
    },
    "papermill": {
     "duration": 0.036053,
     "end_time": "2021-06-29T09:41:52.514547",
     "exception": false,
     "start_time": "2021-06-29T09:41:52.478494",
     "status": "completed"
    },
    "tags": []
   },
   "outputs": [],
   "source": [
    "house_data = house_data.drop('date',axis=1)\n",
    "house_data = house_data.drop('statezip',axis=1)"
   ]
  },
  {
   "cell_type": "code",
   "execution_count": 9,
   "id": "configured-firmware",
   "metadata": {
    "execution": {
     "iopub.execute_input": "2021-06-29T09:41:52.569967Z",
     "iopub.status.busy": "2021-06-29T09:41:52.569150Z",
     "iopub.status.idle": "2021-06-29T09:41:52.575514Z",
     "shell.execute_reply": "2021-06-29T09:41:52.576015Z",
     "shell.execute_reply.started": "2021-06-29T09:41:12.096091Z"
    },
    "papermill": {
     "duration": 0.035877,
     "end_time": "2021-06-29T09:41:52.576177",
     "exception": false,
     "start_time": "2021-06-29T09:41:52.540300",
     "status": "completed"
    },
    "tags": []
   },
   "outputs": [
    {
     "data": {
      "text/plain": [
       "price            float64\n",
       "bedrooms         float64\n",
       "bathrooms        float64\n",
       "sqft_living        int64\n",
       "sqft_lot           int64\n",
       "floors           float64\n",
       "waterfront         int64\n",
       "view               int64\n",
       "condition          int64\n",
       "sqft_above         int64\n",
       "sqft_basement      int64\n",
       "yr_built           int64\n",
       "yr_renovated       int64\n",
       "street            object\n",
       "city              object\n",
       "country           object\n",
       "dtype: object"
      ]
     },
     "execution_count": 9,
     "metadata": {},
     "output_type": "execute_result"
    }
   ],
   "source": [
    "house_data.dtypes # Hence it is regression problem we have to check the datatypes of the data "
   ]
  },
  {
   "cell_type": "markdown",
   "id": "ordered-vegetarian",
   "metadata": {
    "papermill": {
     "duration": 0.026253,
     "end_time": "2021-06-29T09:41:52.628258",
     "exception": false,
     "start_time": "2021-06-29T09:41:52.602005",
     "status": "completed"
    },
    "tags": []
   },
   "source": [
    "# were we have convert into int or float data , we are using Regression problem "
   ]
  },
  {
   "cell_type": "code",
   "execution_count": 10,
   "id": "preceding-garage",
   "metadata": {
    "execution": {
     "iopub.execute_input": "2021-06-29T09:41:52.688090Z",
     "iopub.status.busy": "2021-06-29T09:41:52.686750Z",
     "iopub.status.idle": "2021-06-29T09:41:52.692200Z",
     "shell.execute_reply": "2021-06-29T09:41:52.691486Z",
     "shell.execute_reply.started": "2021-06-29T09:41:12.118884Z"
    },
    "papermill": {
     "duration": 0.037843,
     "end_time": "2021-06-29T09:41:52.692356",
     "exception": false,
     "start_time": "2021-06-29T09:41:52.654513",
     "status": "completed"
    },
    "tags": []
   },
   "outputs": [],
   "source": [
    "house_data[\"price\"]=house_data[\"price\"].astype(int)\n",
    "house_data[\"bedrooms\"]=house_data[\"price\"].astype(int)\n",
    "house_data[\"bathrooms\"]=house_data[\"price\"].astype(int)\n",
    "house_data[\"floors\"]=house_data[\"price\"].astype(int)\n"
   ]
  },
  {
   "cell_type": "markdown",
   "id": "amateur-stretch",
   "metadata": {
    "papermill": {
     "duration": 0.025631,
     "end_time": "2021-06-29T09:41:52.744173",
     "exception": false,
     "start_time": "2021-06-29T09:41:52.718542",
     "status": "completed"
    },
    "tags": []
   },
   "source": [
    "# Hence we have different data in strings we can converts into birany data "
   ]
  },
  {
   "cell_type": "code",
   "execution_count": 11,
   "id": "gorgeous-thirty",
   "metadata": {
    "execution": {
     "iopub.execute_input": "2021-06-29T09:41:52.799197Z",
     "iopub.status.busy": "2021-06-29T09:41:52.798547Z",
     "iopub.status.idle": "2021-06-29T09:41:53.808092Z",
     "shell.execute_reply": "2021-06-29T09:41:53.807531Z",
     "shell.execute_reply.started": "2021-06-29T09:41:12.134973Z"
    },
    "papermill": {
     "duration": 1.038083,
     "end_time": "2021-06-29T09:41:53.808236",
     "exception": false,
     "start_time": "2021-06-29T09:41:52.770153",
     "status": "completed"
    },
    "tags": []
   },
   "outputs": [],
   "source": [
    "from sklearn.preprocessing import LabelEncoder\n",
    "LE=LabelEncoder()\n",
    "house_data[\"street\"]=LE.fit_transform(house_data[\"street\"])\n",
    "house_data[\"city\"]=LE.fit_transform(house_data[\"city\"])\n",
    "house_data[\"country\"]=LE.fit_transform(house_data[\"country\"])\n"
   ]
  },
  {
   "cell_type": "code",
   "execution_count": 12,
   "id": "catholic-guidance",
   "metadata": {
    "execution": {
     "iopub.execute_input": "2021-06-29T09:41:53.867371Z",
     "iopub.status.busy": "2021-06-29T09:41:53.866692Z",
     "iopub.status.idle": "2021-06-29T09:41:53.869286Z",
     "shell.execute_reply": "2021-06-29T09:41:53.869710Z",
     "shell.execute_reply.started": "2021-06-29T09:41:12.628178Z"
    },
    "papermill": {
     "duration": 0.035183,
     "end_time": "2021-06-29T09:41:53.869872",
     "exception": false,
     "start_time": "2021-06-29T09:41:53.834689",
     "status": "completed"
    },
    "tags": []
   },
   "outputs": [
    {
     "data": {
      "text/plain": [
       "price            int64\n",
       "bedrooms         int64\n",
       "bathrooms        int64\n",
       "sqft_living      int64\n",
       "sqft_lot         int64\n",
       "floors           int64\n",
       "waterfront       int64\n",
       "view             int64\n",
       "condition        int64\n",
       "sqft_above       int64\n",
       "sqft_basement    int64\n",
       "yr_built         int64\n",
       "yr_renovated     int64\n",
       "street           int64\n",
       "city             int64\n",
       "country          int64\n",
       "dtype: object"
      ]
     },
     "execution_count": 12,
     "metadata": {},
     "output_type": "execute_result"
    }
   ],
   "source": [
    "house_data.dtypes"
   ]
  },
  {
   "cell_type": "code",
   "execution_count": 13,
   "id": "compact-adolescent",
   "metadata": {
    "execution": {
     "iopub.execute_input": "2021-06-29T09:41:53.925837Z",
     "iopub.status.busy": "2021-06-29T09:41:53.925205Z",
     "iopub.status.idle": "2021-06-29T09:41:53.933334Z",
     "shell.execute_reply": "2021-06-29T09:41:53.933778Z",
     "shell.execute_reply.started": "2021-06-29T09:41:12.639673Z"
    },
    "papermill": {
     "duration": 0.037753,
     "end_time": "2021-06-29T09:41:53.933995",
     "exception": false,
     "start_time": "2021-06-29T09:41:53.896242",
     "status": "completed"
    },
    "tags": []
   },
   "outputs": [
    {
     "data": {
      "text/plain": [
       "price            0\n",
       "bedrooms         0\n",
       "bathrooms        0\n",
       "sqft_living      0\n",
       "sqft_lot         0\n",
       "floors           0\n",
       "waterfront       0\n",
       "view             0\n",
       "condition        0\n",
       "sqft_above       0\n",
       "sqft_basement    0\n",
       "yr_built         0\n",
       "yr_renovated     0\n",
       "street           0\n",
       "city             0\n",
       "country          0\n",
       "dtype: int64"
      ]
     },
     "execution_count": 13,
     "metadata": {},
     "output_type": "execute_result"
    }
   ],
   "source": [
    "house_data.isnull().sum() # hence we have every thing int or flaot we have check the null values "
   ]
  },
  {
   "cell_type": "markdown",
   "id": "cordless-venue",
   "metadata": {
    "papermill": {
     "duration": 0.026305,
     "end_time": "2021-06-29T09:41:53.987230",
     "exception": false,
     "start_time": "2021-06-29T09:41:53.960925",
     "status": "completed"
    },
    "tags": []
   },
   "source": [
    "# If we have null values we use replace or mean or median "
   ]
  },
  {
   "cell_type": "markdown",
   "id": "banned-vacuum",
   "metadata": {
    "papermill": {
     "duration": 0.027163,
     "end_time": "2021-06-29T09:41:54.040998",
     "exception": false,
     "start_time": "2021-06-29T09:41:54.013835",
     "status": "completed"
    },
    "tags": []
   },
   "source": [
    "# Data Visulization "
   ]
  },
  {
   "cell_type": "code",
   "execution_count": 14,
   "id": "arabic-clark",
   "metadata": {
    "execution": {
     "iopub.execute_input": "2021-06-29T09:41:54.100231Z",
     "iopub.status.busy": "2021-06-29T09:41:54.099492Z",
     "iopub.status.idle": "2021-06-29T09:41:54.180115Z",
     "shell.execute_reply": "2021-06-29T09:41:54.180636Z",
     "shell.execute_reply.started": "2021-06-29T09:41:12.661635Z"
    },
    "papermill": {
     "duration": 0.112951,
     "end_time": "2021-06-29T09:41:54.180831",
     "exception": false,
     "start_time": "2021-06-29T09:41:54.067880",
     "status": "completed"
    },
    "tags": []
   },
   "outputs": [],
   "source": [
    "import matplotlib.pyplot as plp\n",
    "import seaborn as sns"
   ]
  },
  {
   "cell_type": "code",
   "execution_count": 15,
   "id": "minute-injection",
   "metadata": {
    "execution": {
     "iopub.execute_input": "2021-06-29T09:41:54.239467Z",
     "iopub.status.busy": "2021-06-29T09:41:54.238504Z",
     "iopub.status.idle": "2021-06-29T09:41:54.834000Z",
     "shell.execute_reply": "2021-06-29T09:41:54.833329Z",
     "shell.execute_reply.started": "2021-06-29T09:41:12.713041Z"
    },
    "papermill": {
     "duration": 0.625208,
     "end_time": "2021-06-29T09:41:54.834140",
     "exception": false,
     "start_time": "2021-06-29T09:41:54.208932",
     "status": "completed"
    },
    "tags": []
   },
   "outputs": [
    {
     "data": {
      "text/plain": [
       "<AxesSubplot:xlabel='yr_built', ylabel='price'>"
      ]
     },
     "execution_count": 15,
     "metadata": {},
     "output_type": "execute_result"
    },
    {
     "data": {
      "image/png": "[encoded data removed]",
      "text/plain": [
       "<Figure size 432x288 with 1 Axes>"
      ]
     },
     "metadata": {},
     "output_type": "display_data"
    }
   ],
   "source": [
    "sns.set(style=\"darkgrid\")\n",
    "sns.regplot(x=house_data['yr_built'], y= house_data[\"price\"])"
   ]
  },
  {
   "cell_type": "code",
   "execution_count": 16,
   "id": "broken-oasis",
   "metadata": {
    "execution": {
     "iopub.execute_input": "2021-06-29T09:41:54.923626Z",
     "iopub.status.busy": "2021-06-29T09:41:54.913134Z",
     "iopub.status.idle": "2021-06-29T09:41:55.293146Z",
     "shell.execute_reply": "2021-06-29T09:41:55.292487Z",
     "shell.execute_reply.started": "2021-06-29T09:41:13.397198Z"
    },
    "papermill": {
     "duration": 0.427699,
     "end_time": "2021-06-29T09:41:55.293291",
     "exception": false,
     "start_time": "2021-06-29T09:41:54.865592",
     "status": "completed"
    },
    "tags": []
   },
   "outputs": [
    {
     "data": {
      "text/plain": [
       "<seaborn.axisgrid.FacetGrid at 0x7f7c7655ca50>"
      ]
     },
     "execution_count": 16,
     "metadata": {},
     "output_type": "execute_result"
    },
    {
     "data": {
      "image/png": "[encoded data removed]",
      "text/plain": [
       "<Figure size 360x360 with 1 Axes>"
      ]
     },
     "metadata": {},
     "output_type": "display_data"
    }
   ],
   "source": [
    "sns.displot(house_data[\"bedrooms\"],bins=10)"
   ]
  },
  {
   "cell_type": "code",
   "execution_count": 17,
   "id": "extra-fruit",
   "metadata": {
    "execution": {
     "iopub.execute_input": "2021-06-29T09:41:55.356475Z",
     "iopub.status.busy": "2021-06-29T09:41:55.355810Z",
     "iopub.status.idle": "2021-06-29T09:41:58.145570Z",
     "shell.execute_reply": "2021-06-29T09:41:58.144940Z",
     "shell.execute_reply.started": "2021-06-29T09:41:13.837059Z"
    },
    "papermill": {
     "duration": 2.822939,
     "end_time": "2021-06-29T09:41:58.145704",
     "exception": false,
     "start_time": "2021-06-29T09:41:55.322765",
     "status": "completed"
    },
    "tags": []
   },
   "outputs": [
    {
     "name": "stderr",
     "output_type": "stream",
     "text": [
      "/opt/conda/lib/python3.7/site-packages/pandas/plotting/_matplotlib/tools.py:400: MatplotlibDeprecationWarning: \n",
      "The is_first_col function was deprecated in Matplotlib 3.4 and will be removed two minor releases later. Use ax.get_subplotspec().is_first_col() instead.\n",
      "  if ax.is_first_col():\n"
     ]
    },
    {
     "data": {
      "image/png": "[encoded data removed]",
      "text/plain": [
       "<Figure size 1080x1440 with 16 Axes>"
      ]
     },
     "metadata": {},
     "output_type": "display_data"
    }
   ],
   "source": [
    "house_data.hist(figsize=(15,20))\n",
    "plp.show()"
   ]
  },
  {
   "cell_type": "code",
   "execution_count": 18,
   "id": "suitable-soccer",
   "metadata": {
    "execution": {
     "iopub.execute_input": "2021-06-29T09:41:58.217316Z",
     "iopub.status.busy": "2021-06-29T09:41:58.215104Z",
     "iopub.status.idle": "2021-06-29T09:42:00.161732Z",
     "shell.execute_reply": "2021-06-29T09:42:00.161109Z",
     "shell.execute_reply.started": "2021-06-29T09:41:17.119219Z"
    },
    "papermill": {
     "duration": 1.984833,
     "end_time": "2021-06-29T09:42:00.161867",
     "exception": false,
     "start_time": "2021-06-29T09:41:58.177034",
     "status": "completed"
    },
    "tags": []
   },
   "outputs": [
    {
     "data": {
      "text/plain": [
       "<AxesSubplot:xlabel='price', ylabel='city'>"
      ]
     },
     "execution_count": 18,
     "metadata": {},
     "output_type": "execute_result"
    },
    {
     "data": {
      "image/png": "[encoded data removed]",
      "text/plain": [
       "<Figure size 1080x1440 with 1 Axes>"
      ]
     },
     "metadata": {},
     "output_type": "display_data"
    }
   ],
   "source": [
    "plp.figure(figsize=(15,20))\n",
    "sns.barplot(data=house_data,y='city',x='price',orient=\"h3\")"
   ]
  },
  {
   "cell_type": "code",
   "execution_count": 19,
   "id": "latest-salmon",
   "metadata": {
    "execution": {
     "iopub.execute_input": "2021-06-29T09:42:00.234680Z",
     "iopub.status.busy": "2021-06-29T09:42:00.234012Z",
     "iopub.status.idle": "2021-06-29T09:42:03.843238Z",
     "shell.execute_reply": "2021-06-29T09:42:03.842631Z",
     "shell.execute_reply.started": "2021-06-29T09:41:19.351218Z"
    },
    "papermill": {
     "duration": 3.648445,
     "end_time": "2021-06-29T09:42:03.843387",
     "exception": false,
     "start_time": "2021-06-29T09:42:00.194942",
     "status": "completed"
    },
    "tags": []
   },
   "outputs": [
    {
     "data": {
      "text/plain": [
       "<AxesSubplot:xlabel='yr_renovated', ylabel='price'>"
      ]
     },
     "execution_count": 19,
     "metadata": {},
     "output_type": "execute_result"
    },
    {
     "data": {
      "image/png": "[encoded data removed]",
      "text/plain": [
       "<Figure size 2160x3240 with 1 Axes>"
      ]
     },
     "metadata": {},
     "output_type": "display_data"
    }
   ],
   "source": [
    "plp.figure(figsize=(30,45))\n",
    "sns.barplot(x=house_data[\"yr_renovated\"],y=house_data[\"price\"])"
   ]
  },
  {
   "cell_type": "code",
   "execution_count": 20,
   "id": "opening-dairy",
   "metadata": {
    "execution": {
     "iopub.execute_input": "2021-06-29T09:42:03.921289Z",
     "iopub.status.busy": "2021-06-29T09:42:03.920640Z",
     "iopub.status.idle": "2021-06-29T09:42:04.411230Z",
     "shell.execute_reply": "2021-06-29T09:42:04.410686Z",
     "shell.execute_reply.started": "2021-06-29T09:41:23.506526Z"
    },
    "papermill": {
     "duration": 0.532035,
     "end_time": "2021-06-29T09:42:04.411366",
     "exception": false,
     "start_time": "2021-06-29T09:42:03.879331",
     "status": "completed"
    },
    "tags": []
   },
   "outputs": [
    {
     "data": {
      "text/plain": [
       "<AxesSubplot:>"
      ]
     },
     "execution_count": 20,
     "metadata": {},
     "output_type": "execute_result"
    },
    {
     "data": {
      "image/png": "[encoded data removed]",
      "text/plain": [
       "<Figure size 576x432 with 2 Axes>"
      ]
     },
     "metadata": {},
     "output_type": "display_data"
    }
   ],
   "source": [
    "plp.figure(figsize=(8,6))\n",
    "sns.set_context('paper',font_scale=1.4)\n",
    "house_data2=house_data.corr()\n",
    "sns.heatmap(house_data2,cmap=\"icefire\")"
   ]
  },
  {
   "cell_type": "code",
   "execution_count": 21,
   "id": "liable-essence",
   "metadata": {
    "execution": {
     "iopub.execute_input": "2021-06-29T09:42:04.491185Z",
     "iopub.status.busy": "2021-06-29T09:42:04.490511Z",
     "iopub.status.idle": "2021-06-29T09:42:04.493740Z",
     "shell.execute_reply": "2021-06-29T09:42:04.494194Z",
     "shell.execute_reply.started": "2021-06-29T09:41:24.099534Z"
    },
    "papermill": {
     "duration": 0.046172,
     "end_time": "2021-06-29T09:42:04.494368",
     "exception": false,
     "start_time": "2021-06-29T09:42:04.448196",
     "status": "completed"
    },
    "tags": []
   },
   "outputs": [],
   "source": [
    "X = house_data.drop('price',axis =1).values\n",
    "y = house_data['price'].values"
   ]
  },
  {
   "cell_type": "code",
   "execution_count": 22,
   "id": "fitting-jimmy",
   "metadata": {
    "execution": {
     "iopub.execute_input": "2021-06-29T09:42:04.573157Z",
     "iopub.status.busy": "2021-06-29T09:42:04.572499Z",
     "iopub.status.idle": "2021-06-29T09:42:04.637496Z",
     "shell.execute_reply": "2021-06-29T09:42:04.636927Z",
     "shell.execute_reply.started": "2021-06-29T09:41:24.108087Z"
    },
    "papermill": {
     "duration": 0.10599,
     "end_time": "2021-06-29T09:42:04.637633",
     "exception": false,
     "start_time": "2021-06-29T09:42:04.531643",
     "status": "completed"
    },
    "tags": []
   },
   "outputs": [],
   "source": [
    "from sklearn.model_selection import train_test_split\n",
    "X_train, X_test, y_train, y_test = train_test_split(X, y, test_size=0.33, random_state=101)"
   ]
  },
  {
   "cell_type": "code",
   "execution_count": 23,
   "id": "celtic-malawi",
   "metadata": {
    "execution": {
     "iopub.execute_input": "2021-06-29T09:42:04.715709Z",
     "iopub.status.busy": "2021-06-29T09:42:04.715106Z",
     "iopub.status.idle": "2021-06-29T09:42:04.835061Z",
     "shell.execute_reply": "2021-06-29T09:42:04.835829Z",
     "shell.execute_reply.started": "2021-06-29T09:41:24.143319Z"
    },
    "papermill": {
     "duration": 0.16057,
     "end_time": "2021-06-29T09:42:04.836122",
     "exception": false,
     "start_time": "2021-06-29T09:42:04.675552",
     "status": "completed"
    },
    "tags": []
   },
   "outputs": [],
   "source": [
    "from sklearn.linear_model import LinearRegression \n",
    "regg=LinearRegression()\n",
    "regg.fit(X_train, y_train)\n",
    "y_pred=regg.predict(X_test)"
   ]
  },
  {
   "cell_type": "code",
   "execution_count": 24,
   "id": "superb-balance",
   "metadata": {
    "execution": {
     "iopub.execute_input": "2021-06-29T09:42:04.997148Z",
     "iopub.status.busy": "2021-06-29T09:42:04.996474Z",
     "iopub.status.idle": "2021-06-29T09:42:05.000449Z",
     "shell.execute_reply": "2021-06-29T09:42:04.999827Z",
     "shell.execute_reply.started": "2021-06-29T09:41:24.188582Z"
    },
    "papermill": {
     "duration": 0.046924,
     "end_time": "2021-06-29T09:42:05.000716",
     "exception": false,
     "start_time": "2021-06-29T09:42:04.953792",
     "status": "completed"
    },
    "tags": []
   },
   "outputs": [
    {
     "data": {
      "text/plain": [
       "1.0"
      ]
     },
     "execution_count": 24,
     "metadata": {},
     "output_type": "execute_result"
    }
   ],
   "source": [
    "from sklearn.metrics import r2_score\n",
    "acc=r2_score(y_test,y_pred)\n",
    "acc"
   ]
  },
  {
   "cell_type": "markdown",
   "id": "knowing-johnston",
   "metadata": {
    "papermill": {
     "duration": 0.037079,
     "end_time": "2021-06-29T09:42:05.075353",
     "exception": false,
     "start_time": "2021-06-29T09:42:05.038274",
     "status": "completed"
    },
    "tags": []
   },
   "source": [
    "# hence we are 100 % accracy "
   ]
  },
  {
   "cell_type": "code",
   "execution_count": null,
   "id": "south-mixture",
   "metadata": {
    "papermill": {
     "duration": 0.0367,
     "end_time": "2021-06-29T09:42:05.150141",
     "exception": false,
     "start_time": "2021-06-29T09:42:05.113441",
     "status": "completed"
    },
    "tags": []
   },
   "outputs": [],
   "source": []
  }
 ],
 "metadata": {
  "kernelspec": {
   "display_name": "Python 3",
   "language": "python",
   "name": "python3"
  },
  "language_info": {
   "codemirror_mode": {
    "name": "ipython",
    "version": 3
   },
   "file_extension": ".py",
   "mimetype": "text/x-python",
   "name": "python",
   "nbconvert_exporter": "python",
   "pygments_lexer": "ipython3",
   "version": "3.7.9"
  },
  "papermill": {
   "default_parameters": {},
   "duration": 19.734255,
   "end_time": "2021-06-29T09:42:05.896774",
   "environment_variables": {},
   "exception": null,
   "input_path": "__notebook__.ipynb",
   "output_path": "__notebook__.ipynb",
   "parameters": {},
   "start_time": "2021-06-29T09:41:46.162519",
   "version": "2.3.2"
  }
 },
 "nbformat": 4,
 "nbformat_minor": 5
}
